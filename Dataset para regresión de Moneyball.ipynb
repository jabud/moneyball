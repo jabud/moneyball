{
 "cells": [
  {
   "cell_type": "code",
   "execution_count": 1,
   "metadata": {},
   "outputs": [],
   "source": [
    "import pandas as pd"
   ]
  },
  {
   "cell_type": "code",
   "execution_count": 2,
   "metadata": {},
   "outputs": [],
   "source": [
    "sal = pd.read_csv(\"Salaries.csv\")\n",
    "teams = pd.read_csv(\"Teams.csv\") "
   ]
  },
  {
   "cell_type": "code",
   "execution_count": 3,
   "metadata": {},
   "outputs": [
    {
     "name": "stdout",
     "output_type": "stream",
     "text": [
      "Teams years:  1871 2015\n",
      "Salaries years: 1985 2015\n"
     ]
    }
   ],
   "source": [
    "print('Teams years: ',teams.yearID.min(), teams.yearID.max())\n",
    "print('Salaries years:', sal.yearID.min(),sal.yearID.max())"
   ]
  },
  {
   "cell_type": "markdown",
   "metadata": {},
   "source": [
    "Esto significa que nuestro analisis debe ser de 1985 a 2015, donde los dos coinciden"
   ]
  },
  {
   "cell_type": "code",
   "execution_count": 4,
   "metadata": {},
   "outputs": [
    {
     "data": {
      "text/html": [
       "<div>\n",
       "<style scoped>\n",
       "    .dataframe tbody tr th:only-of-type {\n",
       "        vertical-align: middle;\n",
       "    }\n",
       "\n",
       "    .dataframe tbody tr th {\n",
       "        vertical-align: top;\n",
       "    }\n",
       "\n",
       "    .dataframe thead th {\n",
       "        text-align: right;\n",
       "    }\n",
       "</style>\n",
       "<table border=\"1\" class=\"dataframe\">\n",
       "  <thead>\n",
       "    <tr style=\"text-align: right;\">\n",
       "      <th></th>\n",
       "      <th>teamID</th>\n",
       "      <th>W</th>\n",
       "      <th>G</th>\n",
       "      <th>yearID</th>\n",
       "    </tr>\n",
       "  </thead>\n",
       "  <tbody>\n",
       "    <tr>\n",
       "      <th>0</th>\n",
       "      <td>ATL</td>\n",
       "      <td>66</td>\n",
       "      <td>162</td>\n",
       "      <td>1985</td>\n",
       "    </tr>\n",
       "    <tr>\n",
       "      <th>1</th>\n",
       "      <td>BAL</td>\n",
       "      <td>83</td>\n",
       "      <td>161</td>\n",
       "      <td>1985</td>\n",
       "    </tr>\n",
       "    <tr>\n",
       "      <th>2</th>\n",
       "      <td>BOS</td>\n",
       "      <td>81</td>\n",
       "      <td>163</td>\n",
       "      <td>1985</td>\n",
       "    </tr>\n",
       "    <tr>\n",
       "      <th>3</th>\n",
       "      <td>CAL</td>\n",
       "      <td>90</td>\n",
       "      <td>162</td>\n",
       "      <td>1985</td>\n",
       "    </tr>\n",
       "    <tr>\n",
       "      <th>4</th>\n",
       "      <td>CHA</td>\n",
       "      <td>85</td>\n",
       "      <td>163</td>\n",
       "      <td>1985</td>\n",
       "    </tr>\n",
       "  </tbody>\n",
       "</table>\n",
       "</div>"
      ],
      "text/plain": [
       "  teamID   W    G  yearID\n",
       "0    ATL  66  162    1985\n",
       "1    BAL  83  161    1985\n",
       "2    BOS  81  163    1985\n",
       "3    CAL  90  162    1985\n",
       "4    CHA  85  163    1985"
      ]
     },
     "execution_count": 4,
     "metadata": {},
     "output_type": "execute_result"
    }
   ],
   "source": [
    "tm = teams[(teams['yearID']>1984)]\n",
    "tm.reset_index(inplace=True, drop=True)\n",
    "tm = tm[['teamID', 'W', 'G', 'yearID']]\n",
    "tm.head()"
   ]
  },
  {
   "cell_type": "markdown",
   "metadata": {},
   "source": [
    "Checamos si hay nombres de equipos distintos en cada año (al parecer no)."
   ]
  },
  {
   "cell_type": "code",
   "execution_count": 5,
   "metadata": {},
   "outputs": [],
   "source": [
    "for y in range(1985, 2016):\n",
    "    if sorted(sal[sal['yearID']==y]['teamID'].unique().tolist())!=sorted(tm[tm['yearID']==y]['teamID'].unique().tolist()):\n",
    "        print('NOOOO')"
   ]
  },
  {
   "cell_type": "markdown",
   "metadata": {},
   "source": [
    "Promedio de salarios por año"
   ]
  },
  {
   "cell_type": "code",
   "execution_count": 6,
   "metadata": {},
   "outputs": [],
   "source": [
    "tm['salary_mean_per_year'] = tm.apply(lambda x: sal[(sal['yearID']==x['yearID']) & (sal['teamID']==x['teamID'])]['salary'].mean(), axis=1)"
   ]
  },
  {
   "cell_type": "markdown",
   "metadata": {},
   "source": [
    "Sacamos el porcetaje de juegos ganados por equipo y creamos un nuevo data frame con columnas:\n",
    "`teamID`,`Porcentaje Wins`,`Salarios promedio`"
   ]
  },
  {
   "cell_type": "code",
   "execution_count": 7,
   "metadata": {},
   "outputs": [
    {
     "data": {
      "text/html": [
       "<div>\n",
       "<style scoped>\n",
       "    .dataframe tbody tr th:only-of-type {\n",
       "        vertical-align: middle;\n",
       "    }\n",
       "\n",
       "    .dataframe tbody tr th {\n",
       "        vertical-align: top;\n",
       "    }\n",
       "\n",
       "    .dataframe thead th {\n",
       "        text-align: right;\n",
       "    }\n",
       "</style>\n",
       "<table border=\"1\" class=\"dataframe\">\n",
       "  <thead>\n",
       "    <tr style=\"text-align: right;\">\n",
       "      <th></th>\n",
       "      <th>teamID</th>\n",
       "      <th>PJG</th>\n",
       "      <th>Salario_prom</th>\n",
       "    </tr>\n",
       "  </thead>\n",
       "  <tbody>\n",
       "    <tr>\n",
       "      <th>0</th>\n",
       "      <td>KCA</td>\n",
       "      <td>46.52</td>\n",
       "      <td>1470645.59</td>\n",
       "    </tr>\n",
       "    <tr>\n",
       "      <th>1</th>\n",
       "      <td>MIN</td>\n",
       "      <td>48.98</td>\n",
       "      <td>1662150.06</td>\n",
       "    </tr>\n",
       "    <tr>\n",
       "      <th>2</th>\n",
       "      <td>CLE</td>\n",
       "      <td>49.87</td>\n",
       "      <td>1648258.28</td>\n",
       "    </tr>\n",
       "    <tr>\n",
       "      <th>3</th>\n",
       "      <td>CHA</td>\n",
       "      <td>50.67</td>\n",
       "      <td>2146572.04</td>\n",
       "    </tr>\n",
       "    <tr>\n",
       "      <th>4</th>\n",
       "      <td>DET</td>\n",
       "      <td>47.80</td>\n",
       "      <td>2306922.91</td>\n",
       "    </tr>\n",
       "  </tbody>\n",
       "</table>\n",
       "</div>"
      ],
      "text/plain": [
       "  teamID    PJG  Salario_prom\n",
       "0    KCA  46.52    1470645.59\n",
       "1    MIN  48.98    1662150.06\n",
       "2    CLE  49.87    1648258.28\n",
       "3    CHA  50.67    2146572.04\n",
       "4    DET  47.80    2306922.91"
      ]
     },
     "execution_count": 7,
     "metadata": {},
     "output_type": "execute_result"
    }
   ],
   "source": [
    "df = pd.DataFrame(columns=['teamID', 'PJG', 'Salario_prom'])\n",
    "df['teamID'] = tm[tm['yearID']==y]['teamID'].unique().tolist()\n",
    "df['PJG'] = df['teamID'].apply(lambda x: round((tm[tm['teamID']==x]['W'].sum()/tm[tm['teamID']==x]['G'].sum())*100,2))\n",
    "df['Salario_prom'] = df['teamID'].apply(lambda x: round(tm[tm['teamID']==x]['salary_mean_per_year'].mean(),2))\n",
    "df.head()"
   ]
  },
  {
   "cell_type": "code",
   "execution_count": 8,
   "metadata": {},
   "outputs": [],
   "source": [
    "# df.to_csv('salarios_pjg.csv', index=False)"
   ]
  }
 ],
 "metadata": {
  "kernelspec": {
   "display_name": "dv",
   "language": "python",
   "name": "dv"
  },
  "language_info": {
   "codemirror_mode": {
    "name": "ipython",
    "version": 3
   },
   "file_extension": ".py",
   "mimetype": "text/x-python",
   "name": "python",
   "nbconvert_exporter": "python",
   "pygments_lexer": "ipython3",
   "version": "3.6.6"
  }
 },
 "nbformat": 4,
 "nbformat_minor": 2
}
