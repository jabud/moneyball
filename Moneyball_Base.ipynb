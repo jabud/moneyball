{
 "cells": [
  {
   "cell_type": "markdown",
   "metadata": {},
   "source": [
    "# Moneyball"
   ]
  },
  {
   "cell_type": "markdown",
   "metadata": {},
   "source": [
    "### Presentar Datasets"
   ]
  },
  {
   "cell_type": "code",
   "execution_count": 1,
   "metadata": {},
   "outputs": [],
   "source": [
    "import pandas as pd"
   ]
  },
  {
   "cell_type": "code",
   "execution_count": 2,
   "metadata": {},
   "outputs": [
    {
     "data": {
      "text/html": [
       "<div>\n",
       "<style scoped>\n",
       "    .dataframe tbody tr th:only-of-type {\n",
       "        vertical-align: middle;\n",
       "    }\n",
       "\n",
       "    .dataframe tbody tr th {\n",
       "        vertical-align: top;\n",
       "    }\n",
       "\n",
       "    .dataframe thead th {\n",
       "        text-align: right;\n",
       "    }\n",
       "</style>\n",
       "<table border=\"1\" class=\"dataframe\">\n",
       "  <thead>\n",
       "    <tr style=\"text-align: right;\">\n",
       "      <th></th>\n",
       "      <th>teamID</th>\n",
       "      <th>PJG</th>\n",
       "      <th>Salario_prom</th>\n",
       "    </tr>\n",
       "  </thead>\n",
       "  <tbody>\n",
       "    <tr>\n",
       "      <th>0</th>\n",
       "      <td>KCA</td>\n",
       "      <td>46.52</td>\n",
       "      <td>1470645.59</td>\n",
       "    </tr>\n",
       "    <tr>\n",
       "      <th>1</th>\n",
       "      <td>MIN</td>\n",
       "      <td>48.98</td>\n",
       "      <td>1662150.06</td>\n",
       "    </tr>\n",
       "    <tr>\n",
       "      <th>2</th>\n",
       "      <td>CLE</td>\n",
       "      <td>49.87</td>\n",
       "      <td>1648258.28</td>\n",
       "    </tr>\n",
       "    <tr>\n",
       "      <th>3</th>\n",
       "      <td>CHA</td>\n",
       "      <td>50.67</td>\n",
       "      <td>2146572.04</td>\n",
       "    </tr>\n",
       "    <tr>\n",
       "      <th>4</th>\n",
       "      <td>DET</td>\n",
       "      <td>47.80</td>\n",
       "      <td>2306922.91</td>\n",
       "    </tr>\n",
       "  </tbody>\n",
       "</table>\n",
       "</div>"
      ],
      "text/plain": [
       "  teamID    PJG  Salario_prom\n",
       "0    KCA  46.52    1470645.59\n",
       "1    MIN  48.98    1662150.06\n",
       "2    CLE  49.87    1648258.28\n",
       "3    CHA  50.67    2146572.04\n",
       "4    DET  47.80    2306922.91"
      ]
     },
     "execution_count": 2,
     "metadata": {},
     "output_type": "execute_result"
    }
   ],
   "source": [
    "salarios = pd.read_csv('salarios_pjg.csv')\n",
    "salarios.head()"
   ]
  },
  {
   "cell_type": "code",
   "execution_count": 3,
   "metadata": {},
   "outputs": [
    {
     "data": {
      "text/html": [
       "<div>\n",
       "<style scoped>\n",
       "    .dataframe tbody tr th:only-of-type {\n",
       "        vertical-align: middle;\n",
       "    }\n",
       "\n",
       "    .dataframe tbody tr th {\n",
       "        vertical-align: top;\n",
       "    }\n",
       "\n",
       "    .dataframe thead th {\n",
       "        text-align: right;\n",
       "    }\n",
       "</style>\n",
       "<table border=\"1\" class=\"dataframe\">\n",
       "  <thead>\n",
       "    <tr style=\"text-align: right;\">\n",
       "      <th></th>\n",
       "      <th>Equipo</th>\n",
       "      <th>Liga</th>\n",
       "      <th>Año</th>\n",
       "      <th>CF</th>\n",
       "      <th>CC</th>\n",
       "      <th>JG</th>\n",
       "      <th>PBase</th>\n",
       "      <th>SLG</th>\n",
       "      <th>PBat</th>\n",
       "      <th>Playoffs</th>\n",
       "      <th>RankSeason</th>\n",
       "      <th>RankPlayoffs</th>\n",
       "      <th>Juegos</th>\n",
       "      <th>OPBase</th>\n",
       "      <th>OSLG</th>\n",
       "    </tr>\n",
       "  </thead>\n",
       "  <tbody>\n",
       "    <tr>\n",
       "      <th>0</th>\n",
       "      <td>ARI</td>\n",
       "      <td>NL</td>\n",
       "      <td>2012</td>\n",
       "      <td>734</td>\n",
       "      <td>688</td>\n",
       "      <td>81</td>\n",
       "      <td>0.328</td>\n",
       "      <td>0.418</td>\n",
       "      <td>0.259</td>\n",
       "      <td>0</td>\n",
       "      <td>NaN</td>\n",
       "      <td>NaN</td>\n",
       "      <td>162</td>\n",
       "      <td>0.317</td>\n",
       "      <td>0.415</td>\n",
       "    </tr>\n",
       "    <tr>\n",
       "      <th>1</th>\n",
       "      <td>ATL</td>\n",
       "      <td>NL</td>\n",
       "      <td>2012</td>\n",
       "      <td>700</td>\n",
       "      <td>600</td>\n",
       "      <td>94</td>\n",
       "      <td>0.320</td>\n",
       "      <td>0.389</td>\n",
       "      <td>0.247</td>\n",
       "      <td>1</td>\n",
       "      <td>4.0</td>\n",
       "      <td>5.0</td>\n",
       "      <td>162</td>\n",
       "      <td>0.306</td>\n",
       "      <td>0.378</td>\n",
       "    </tr>\n",
       "    <tr>\n",
       "      <th>2</th>\n",
       "      <td>BAL</td>\n",
       "      <td>AL</td>\n",
       "      <td>2012</td>\n",
       "      <td>712</td>\n",
       "      <td>705</td>\n",
       "      <td>93</td>\n",
       "      <td>0.311</td>\n",
       "      <td>0.417</td>\n",
       "      <td>0.247</td>\n",
       "      <td>1</td>\n",
       "      <td>5.0</td>\n",
       "      <td>4.0</td>\n",
       "      <td>162</td>\n",
       "      <td>0.315</td>\n",
       "      <td>0.403</td>\n",
       "    </tr>\n",
       "    <tr>\n",
       "      <th>3</th>\n",
       "      <td>BOS</td>\n",
       "      <td>AL</td>\n",
       "      <td>2012</td>\n",
       "      <td>734</td>\n",
       "      <td>806</td>\n",
       "      <td>69</td>\n",
       "      <td>0.315</td>\n",
       "      <td>0.415</td>\n",
       "      <td>0.260</td>\n",
       "      <td>0</td>\n",
       "      <td>NaN</td>\n",
       "      <td>NaN</td>\n",
       "      <td>162</td>\n",
       "      <td>0.331</td>\n",
       "      <td>0.428</td>\n",
       "    </tr>\n",
       "    <tr>\n",
       "      <th>4</th>\n",
       "      <td>CHC</td>\n",
       "      <td>NL</td>\n",
       "      <td>2012</td>\n",
       "      <td>613</td>\n",
       "      <td>759</td>\n",
       "      <td>61</td>\n",
       "      <td>0.302</td>\n",
       "      <td>0.378</td>\n",
       "      <td>0.240</td>\n",
       "      <td>0</td>\n",
       "      <td>NaN</td>\n",
       "      <td>NaN</td>\n",
       "      <td>162</td>\n",
       "      <td>0.335</td>\n",
       "      <td>0.424</td>\n",
       "    </tr>\n",
       "  </tbody>\n",
       "</table>\n",
       "</div>"
      ],
      "text/plain": [
       "  Equipo Liga   Año   CF   CC  JG  PBase    SLG   PBat  Playoffs  RankSeason  \\\n",
       "0    ARI   NL  2012  734  688  81  0.328  0.418  0.259         0         NaN   \n",
       "1    ATL   NL  2012  700  600  94  0.320  0.389  0.247         1         4.0   \n",
       "2    BAL   AL  2012  712  705  93  0.311  0.417  0.247         1         5.0   \n",
       "3    BOS   AL  2012  734  806  69  0.315  0.415  0.260         0         NaN   \n",
       "4    CHC   NL  2012  613  759  61  0.302  0.378  0.240         0         NaN   \n",
       "\n",
       "   RankPlayoffs  Juegos  OPBase   OSLG  \n",
       "0           NaN     162   0.317  0.415  \n",
       "1           5.0     162   0.306  0.378  \n",
       "2           4.0     162   0.315  0.403  \n",
       "3           NaN     162   0.331  0.428  \n",
       "4           NaN     162   0.335  0.424  "
      ]
     },
     "execution_count": 3,
     "metadata": {},
     "output_type": "execute_result"
    }
   ],
   "source": [
    "estadistica = pd.read_csv(\"moneyball.csv\")\n",
    "estadistica.head()"
   ]
  },
  {
   "cell_type": "markdown",
   "metadata": {},
   "source": [
    "### Explicación de columnas\n",
    "\n",
    "**CF**: Carreras a Favor\n",
    "\n",
    "**CC**: Carreras en Contra\n",
    "\n",
    "**JG**: Juegos Ganados\n",
    "\n",
    "**PBase**: Porcentaje en que los jugadores llega a Base\n",
    "\n",
    "**SLG**: Productividad del bateador, diferente importancia a cada resultado del bateo(1 base, 2 bases, hit, carrera, etc.)\n",
    "\n",
    "**PBat**: Porcentaje de Bateo\n",
    "\n",
    "**OPBase**: Porcentahe en que un Oponente llega a Base\n",
    "\n",
    "**OSLG**: Productividad de bateo del Oponente\n",
    "\n",
    "**RankSeason**: Rank de la liga.\n",
    "\n",
    "**RankPlayoffs**: Rank de playoffs.\n",
    "\n",
    "**Playoffs**: Pasaron o no a los playoffs\n",
    "\n",
    "**Juegos**: Juegos jugados.\n"
   ]
  },
  {
   "cell_type": "markdown",
   "metadata": {},
   "source": [
    "### Cuantos juegos ganados se necesitan para llegar a Playoffs?\n",
    "\n",
    "La meta de un equipo de baseball es llegar a los playoffs y para llegar se tienen que ganar juegos.\n",
    "\n",
    "Lo primero que DePodesta hizo fue poner la meta en términos numéricos, cuántos juegos necesitamos ganar para pasar a los playoffs?\n",
    "\n",
    "Contestó esa pregunta generando una gráfica usando las estadísticas disponibles en el 2001."
   ]
  },
  {
   "cell_type": "code",
   "execution_count": 4,
   "metadata": {},
   "outputs": [
    {
     "data": {
      "text/plain": [
       "array([2012, 2011, 2010, 2009, 2008, 2007, 2006, 2005, 2004, 2003, 2002,\n",
       "       2001, 2000, 1999, 1998, 1997, 1996, 1993, 1992, 1991, 1990, 1989,\n",
       "       1988, 1987, 1986, 1985, 1984, 1983, 1982, 1980, 1979, 1978, 1977,\n",
       "       1976, 1975, 1974, 1973, 1971, 1970, 1969, 1968, 1967, 1966, 1965,\n",
       "       1964, 1963, 1962])"
      ]
     },
     "execution_count": 4,
     "metadata": {},
     "output_type": "execute_result"
    }
   ],
   "source": [
    "estadistica['Año'].unique()"
   ]
  },
  {
   "cell_type": "markdown",
   "metadata": {},
   "source": [
    "Pero queremos recrear la situación en la que estaban los atléticos en ese momento,\n",
    "entonces agarremos datos hasta el 2001."
   ]
  },
  {
   "cell_type": "code",
   "execution_count": 5,
   "metadata": {},
   "outputs": [],
   "source": [
    "# Usemos los datos que tenían disponible (1962-2001)\n",
    "moneyball = estadistica[estadistica['Año']<2002]\n",
    "moneyball.reset_index(inplace=True, drop=True)"
   ]
  },
  {
   "cell_type": "markdown",
   "metadata": {},
   "source": [
    "Generemos la gráfico que usó Depodesta."
   ]
  },
  {
   "cell_type": "code",
   "execution_count": 6,
   "metadata": {},
   "outputs": [],
   "source": [
    "losers = moneyball[moneyball['Playoffs']==0][['JG','CF']]\n",
    "winners = moneyball[moneyball['Playoffs']==1][['JG','CF']]"
   ]
  },
  {
   "cell_type": "code",
   "execution_count": 8,
   "metadata": {},
   "outputs": [
    {
     "data": {
      "image/png": "[encoded data removed]",
      "text/plain": [
       "<Figure size 936x576 with 1 Axes>"
      ]
     },
     "metadata": {
      "needs_background": "light"
     },
     "output_type": "display_data"
    }
   ],
   "source": [
    "import matplotlib.pyplot as plt\n",
    "import numpy as np\n",
    "\n",
    "plt.figure(figsize=(13,8))\n",
    "plt.scatter(x=losers['JG'], y=losers['CF'], c=\"red\")\n",
    "plt.scatter(x=winners['JG'], y=winners['CF'], c=\"green\")\n",
    "plt.xlabel(\"Juegos Ganados\", fontsize=20)\n",
    "plt.ylabel(\"Carreras a Favor\", fontsize=20)\n",
    "# juegos a ganar\n",
    "plt.axvline(x=95, linewidth=2, color='blue',  alpha=1)\n",
    "# carreras a favor\n",
    "# plt.axhline(y=814, xmax=120, color='blue', linewidth=2)\n",
    "# equipos dentro de estos parámetros\n",
    "plt.fill_betweenx(y=np.linspace(500,1050,236), x1=np.repeat(95,236), x2=np.repeat(120,236), alpha=.3)\n",
    "plt.show()"
   ]
  },
  {
   "cell_type": "markdown",
   "metadata": {},
   "source": [
    "Se puede observar que los equipos que ganan más de 95 juegos tienen una buena probabilidad de pasar a los playoffs, una cantidad menor y esa probabilidad disminuye considerablemente.\n",
    "\n",
    "Por lo tanto ya tenemos una meta tangible, necesitamos al menos 95 juegos."
   ]
  },
  {
   "cell_type": "markdown",
   "metadata": {},
   "source": [
    "### Juegos Ganados en promedio por los Atléticos\n",
    "\n",
    "Cuál es el promedio de juegos ganados de los Atléticos?"
   ]
  },
  {
   "cell_type": "code",
   "execution_count": 9,
   "metadata": {},
   "outputs": [
    {
     "data": {
      "text/plain": [
       "83.4"
      ]
     },
     "execution_count": 9,
     "metadata": {},
     "output_type": "execute_result"
    }
   ],
   "source": [
    "moneyball[moneyball['Equipo']=='OAK']['JG'].mean()"
   ]
  },
  {
   "cell_type": "markdown",
   "metadata": {},
   "source": [
    "## Regresión con Payroll\n",
    "\n",
    "Los atléticos en ese entonces tenían un promedio de 83.4 juegos ganados durante la liga, por lo tanto debemos hacer algo para aumentar ese número.\n",
    "\n",
    "Con esto en mente revisemos primero la estrategia más usada, subir los salarios y contratar jugadores “talentosos”: \n",
    "\n",
    "Podemos utilizar una Regresión lineal con el % de juegos ganados y el presupuesto del equipo."
   ]
  },
  {
   "cell_type": "code",
   "execution_count": 10,
   "metadata": {},
   "outputs": [
    {
     "data": {
      "image/png": "[encoded data removed]",
      "text/plain": [
       "<Figure size 720x576 with 1 Axes>"
      ]
     },
     "metadata": {
      "needs_background": "light"
     },
     "output_type": "display_data"
    }
   ],
   "source": [
    "plt.figure(figsize=(10,8))\n",
    "plt.scatter(x=salarios['Salario_prom'], y=salarios['PJG'], c=\"blue\")\n",
    "plt.xlabel(\"Salarios Promedio\", fontsize=20)\n",
    "plt.ylabel(\"Porcentaje de Juegos Ganados\", fontsize=20)\n",
    "plt.show()"
   ]
  },
  {
   "cell_type": "markdown",
   "metadata": {},
   "source": [
    "Ok, a simple vista se ve una ligera tendencia, aunque hay ciertos puntos que contradicen esta hipótesis.\n",
    "\n",
    "Calculemos la regresión y veamos los resultados.\n",
    "\n",
    "Vamos a utilizar una librería llamada scikit-learn que tiene código abierto de casi cualquier modelo de machine learning que puedan necesitar, entre ellos Regresión Lineal."
   ]
  },
  {
   "cell_type": "code",
   "execution_count": 11,
   "metadata": {},
   "outputs": [
    {
     "name": "stdout",
     "output_type": "stream",
     "text": [
      "m =  [2.45432193e-06]\n",
      "b =  44.38765532444737\n"
     ]
    }
   ],
   "source": [
    "from sklearn.linear_model import LinearRegression\n",
    "\n",
    "ind = salarios['Salario_prom'].values.reshape(-1,1)\n",
    "\n",
    "dep = salarios['PJG'].values\n",
    "\n",
    "Payroll_reg = LinearRegression()\n",
    "Payroll_reg.fit(ind, dep)\n",
    "\n",
    "print('m = ', Payroll_reg.coef_)\n",
    "print('b = ', Payroll_reg.intercept_)"
   ]
  },
  {
   "cell_type": "code",
   "execution_count": 12,
   "metadata": {
    "scrolled": false
   },
   "outputs": [
    {
     "data": {
      "image/png": "[encoded data removed]",
      "text/plain": [
       "<Figure size 720x576 with 1 Axes>"
      ]
     },
     "metadata": {
      "needs_background": "light"
     },
     "output_type": "display_data"
    }
   ],
   "source": [
    "from matplotlib import lines\n",
    "\n",
    "test = np.linspace(1221698,4216198, num=30)\n",
    "x_test = test[:, np.newaxis]\n",
    "pred = Payroll_reg.predict(x_test)\n",
    "\n",
    "bfl = lines.Line2D(x_test, pred, color='red')\n",
    "fig, ax = plt.subplots(figsize=(10,8))\n",
    "plt.scatter(x=salarios['Salario_prom'], y=salarios['PJG'], c=\"blue\")\n",
    "plt.xlabel(\"Salarios Promedio\", fontsize=20)\n",
    "plt.ylabel(\"Juegos Ganados Promedio\", fontsize=20)\n",
    "ax.add_line(bfl)\n",
    "plt.show()"
   ]
  },
  {
   "cell_type": "markdown",
   "metadata": {},
   "source": [
    "### Calculamos R² y determinamos qué tan bueno es el modelo. ***"
   ]
  },
  {
   "cell_type": "markdown",
   "metadata": {},
   "source": [
    "Necesitamos una métrica para saber que tan bueno es nuestro modelo. \n",
    "\n",
    "Para eso usamos el coeficiente de determinación R².\n",
    "\n",
    "R² calcula que tan relacionado está nuestro modelo con los datos o que tanto nuestros datos son explicados por nuestro modelo.\n",
    "\n",
    "La forma en que se hace es comparando los resultados con la media, básicamente estamos diciendo: si tu modelo es peor para predecir que la media de los datos, tu modelo es muy malo. \n",
    "\n",
    "El valor es 0 si es igual de bueno para predecir que la media, usa números negativos para indicar que es peor y números positivos para indicar que es mejor, el valor máximo es 1.\n",
    "\n",
    "Por lo tanto queremos que nuestro coeficiente sea lo más cercano a 1."
   ]
  },
  {
   "cell_type": "code",
   "execution_count": 13,
   "metadata": {},
   "outputs": [
    {
     "name": "stdout",
     "output_type": "stream",
     "text": [
      "R² =  0.28713334757728814\n"
     ]
    }
   ],
   "source": [
    "print('R² = ', Payroll_reg.score(ind, dep))"
   ]
  },
  {
   "cell_type": "markdown",
   "metadata": {},
   "source": [
    "Este resultado nos dice que el presupuesto de un equipo si influye en los juegos ganados, pero no de manera contundente. Lo cuál es algo contraintuitivo!\n",
    "\n",
    "Esta estrategia no parece ser la mejor opción y no había presupuesto para ir por esa de todas formas.\n"
   ]
  },
  {
   "cell_type": "markdown",
   "metadata": {},
   "source": [
    "## Regresión con Diferencia de Carreras\n",
    "\n",
    "¿Qué otra estrategia podemos tomar?\n",
    "¿Qué variables se les ocurre que puedan tener un efecto en el número de juegos ganados?\n",
    "\n",
    "DePodesta sugirió analizar la diferencia de carreras a favor y carreras en contra.\n",
    "\n",
    "Y tiene sentido, tener muchas carreras a favor no es necesariamente un buen indicador de juegos ganados, así como sólo carreras en contra no nos dice que el un equipo pierde mucho, es la diferencia lo que nos da una mejor idea de cómo le va al equipo.\n",
    "\n",
    "Veamos cómo nos va con esta variable:"
   ]
  },
  {
   "cell_type": "markdown",
   "metadata": {},
   "source": [
    "### Columna extra: Diferencia entre CF y CC (DC)"
   ]
  },
  {
   "cell_type": "code",
   "execution_count": 14,
   "metadata": {},
   "outputs": [
    {
     "name": "stderr",
     "output_type": "stream",
     "text": [
      "/home/jorge/Envs/dv/lib/python3.6/site-packages/ipykernel_launcher.py:3: SettingWithCopyWarning: \n",
      "A value is trying to be set on a copy of a slice from a DataFrame.\n",
      "Try using .loc[row_indexer,col_indexer] = value instead\n",
      "\n",
      "See the caveats in the documentation: http://pandas.pydata.org/pandas-docs/stable/indexing.html#indexing-view-versus-copy\n",
      "  This is separate from the ipykernel package so we can avoid doing imports until\n"
     ]
    },
    {
     "data": {
      "text/html": [
       "<div>\n",
       "<style scoped>\n",
       "    .dataframe tbody tr th:only-of-type {\n",
       "        vertical-align: middle;\n",
       "    }\n",
       "\n",
       "    .dataframe tbody tr th {\n",
       "        vertical-align: top;\n",
       "    }\n",
       "\n",
       "    .dataframe thead th {\n",
       "        text-align: right;\n",
       "    }\n",
       "</style>\n",
       "<table border=\"1\" class=\"dataframe\">\n",
       "  <thead>\n",
       "    <tr style=\"text-align: right;\">\n",
       "      <th></th>\n",
       "      <th>Equipo</th>\n",
       "      <th>Liga</th>\n",
       "      <th>Año</th>\n",
       "      <th>CF</th>\n",
       "      <th>CC</th>\n",
       "      <th>JG</th>\n",
       "      <th>PBase</th>\n",
       "      <th>SLG</th>\n",
       "      <th>PBat</th>\n",
       "      <th>Playoffs</th>\n",
       "      <th>RankSeason</th>\n",
       "      <th>RankPlayoffs</th>\n",
       "      <th>Juegos</th>\n",
       "      <th>OPBase</th>\n",
       "      <th>OSLG</th>\n",
       "      <th>DC</th>\n",
       "    </tr>\n",
       "  </thead>\n",
       "  <tbody>\n",
       "    <tr>\n",
       "      <th>0</th>\n",
       "      <td>ANA</td>\n",
       "      <td>AL</td>\n",
       "      <td>2001</td>\n",
       "      <td>691</td>\n",
       "      <td>730</td>\n",
       "      <td>75</td>\n",
       "      <td>0.327</td>\n",
       "      <td>0.405</td>\n",
       "      <td>0.261</td>\n",
       "      <td>0</td>\n",
       "      <td>NaN</td>\n",
       "      <td>NaN</td>\n",
       "      <td>162</td>\n",
       "      <td>0.331</td>\n",
       "      <td>0.412</td>\n",
       "      <td>-39</td>\n",
       "    </tr>\n",
       "    <tr>\n",
       "      <th>1</th>\n",
       "      <td>ARI</td>\n",
       "      <td>NL</td>\n",
       "      <td>2001</td>\n",
       "      <td>818</td>\n",
       "      <td>677</td>\n",
       "      <td>92</td>\n",
       "      <td>0.341</td>\n",
       "      <td>0.442</td>\n",
       "      <td>0.267</td>\n",
       "      <td>1</td>\n",
       "      <td>5.0</td>\n",
       "      <td>1.0</td>\n",
       "      <td>162</td>\n",
       "      <td>0.311</td>\n",
       "      <td>0.404</td>\n",
       "      <td>141</td>\n",
       "    </tr>\n",
       "    <tr>\n",
       "      <th>2</th>\n",
       "      <td>ATL</td>\n",
       "      <td>NL</td>\n",
       "      <td>2001</td>\n",
       "      <td>729</td>\n",
       "      <td>643</td>\n",
       "      <td>88</td>\n",
       "      <td>0.324</td>\n",
       "      <td>0.412</td>\n",
       "      <td>0.260</td>\n",
       "      <td>1</td>\n",
       "      <td>7.0</td>\n",
       "      <td>3.0</td>\n",
       "      <td>162</td>\n",
       "      <td>0.314</td>\n",
       "      <td>0.384</td>\n",
       "      <td>86</td>\n",
       "    </tr>\n",
       "    <tr>\n",
       "      <th>3</th>\n",
       "      <td>BAL</td>\n",
       "      <td>AL</td>\n",
       "      <td>2001</td>\n",
       "      <td>687</td>\n",
       "      <td>829</td>\n",
       "      <td>63</td>\n",
       "      <td>0.319</td>\n",
       "      <td>0.380</td>\n",
       "      <td>0.248</td>\n",
       "      <td>0</td>\n",
       "      <td>NaN</td>\n",
       "      <td>NaN</td>\n",
       "      <td>162</td>\n",
       "      <td>0.337</td>\n",
       "      <td>0.439</td>\n",
       "      <td>-142</td>\n",
       "    </tr>\n",
       "    <tr>\n",
       "      <th>4</th>\n",
       "      <td>BOS</td>\n",
       "      <td>AL</td>\n",
       "      <td>2001</td>\n",
       "      <td>772</td>\n",
       "      <td>745</td>\n",
       "      <td>82</td>\n",
       "      <td>0.334</td>\n",
       "      <td>0.439</td>\n",
       "      <td>0.266</td>\n",
       "      <td>0</td>\n",
       "      <td>NaN</td>\n",
       "      <td>NaN</td>\n",
       "      <td>161</td>\n",
       "      <td>0.329</td>\n",
       "      <td>0.393</td>\n",
       "      <td>27</td>\n",
       "    </tr>\n",
       "  </tbody>\n",
       "</table>\n",
       "</div>"
      ],
      "text/plain": [
       "  Equipo Liga   Año   CF   CC  JG  PBase    SLG   PBat  Playoffs  RankSeason  \\\n",
       "0    ANA   AL  2001  691  730  75  0.327  0.405  0.261         0         NaN   \n",
       "1    ARI   NL  2001  818  677  92  0.341  0.442  0.267         1         5.0   \n",
       "2    ATL   NL  2001  729  643  88  0.324  0.412  0.260         1         7.0   \n",
       "3    BAL   AL  2001  687  829  63  0.319  0.380  0.248         0         NaN   \n",
       "4    BOS   AL  2001  772  745  82  0.334  0.439  0.266         0         NaN   \n",
       "\n",
       "   RankPlayoffs  Juegos  OPBase   OSLG   DC  \n",
       "0           NaN     162   0.331  0.412  -39  \n",
       "1           1.0     162   0.311  0.404  141  \n",
       "2           3.0     162   0.314  0.384   86  \n",
       "3           NaN     162   0.337  0.439 -142  \n",
       "4           NaN     161   0.329  0.393   27  "
      ]
     },
     "execution_count": 14,
     "metadata": {},
     "output_type": "execute_result"
    }
   ],
   "source": [
    "# extra columna DC\n",
    "# moneyball['DC']=moneyball.apply(lambda x: x['CF']-x['CC'], axis=1)\n",
    "moneyball['DC'] = moneyball['CF'] - moneyball['CC']\n",
    "moneyball.head()"
   ]
  },
  {
   "cell_type": "code",
   "execution_count": 15,
   "metadata": {},
   "outputs": [
    {
     "name": "stdout",
     "output_type": "stream",
     "text": [
      "m =  [0.10576562]\n",
      "b =  80.88137472283813\n"
     ]
    }
   ],
   "source": [
    "ind = moneyball['DC'].values.reshape(-1,1)\n",
    "dep = moneyball['JG'].values\n",
    "\n",
    "JG_reg = LinearRegression()\n",
    "JG_reg.fit(ind, dep)\n",
    "\n",
    "print('m = ', JG_reg.coef_)\n",
    "print('b = ',JG_reg.intercept_)"
   ]
  },
  {
   "cell_type": "code",
   "execution_count": 16,
   "metadata": {},
   "outputs": [
    {
     "name": "stdout",
     "output_type": "stream",
     "text": [
      "R² =  0.8808103719972755\n"
     ]
    }
   ],
   "source": [
    "print('R² = ', JG_reg.score(ind, dep))"
   ]
  },
  {
   "cell_type": "markdown",
   "metadata": {},
   "source": [
    "Esta parece ser una muy buena estrategia, ahora solo debemos enfocar nuestra atención en la diferencia de carreras a favor y en contra."
   ]
  },
  {
   "cell_type": "markdown",
   "metadata": {},
   "source": [
    "Sustituímos para calcular cuánto debe ser la diferencia de carreras si queremos ganar 95 juegos."
   ]
  },
  {
   "cell_type": "markdown",
   "metadata": {},
   "source": [
    "### Estimación de DC\n",
    "\n",
    "Usamos nuestro modelo para estimar cuál es la diferencia de carreras que necesitamos para llegar a 95 juegos ganados.\n",
    "\n",
    "\n",
    "y = m*x + b\n",
    "\n",
    "95 = m*DC + b\n",
    "\n",
    "DC = 95 - b / m"
   ]
  },
  {
   "cell_type": "code",
   "execution_count": 17,
   "metadata": {},
   "outputs": [
    {
     "name": "stdout",
     "output_type": "stream",
     "text": [
      "[133.48973844]\n"
     ]
    }
   ],
   "source": [
    "dc = (95 - JG_reg.intercept_)/JG_reg.coef_\n",
    "print(dc)"
   ]
  },
  {
   "cell_type": "markdown",
   "metadata": {},
   "source": [
    "Esto significa que para ganar al menos 95 juegos necesitamos una diferencia de carreras de al menos 133.4.\n",
    "\n",
    "Depodesta estimo una diferencia de 135 carreras lo cual se acerca bastante a nuestra estimación."
   ]
  },
  {
   "cell_type": "markdown",
   "metadata": {},
   "source": [
    "## Regresión Lineal Múltiple\n",
    "\n",
    "¿Cómo un equipo hace carreras?\n",
    "\n",
    "1.- porcentaje de veces que un jugador llega a base (PBase). Como sea que eso pase, base por bola, al batear, como sea.\n",
    "\n",
    "2.- porcentaje de bases alcanzadas por un jugador en cada batazo (SLG). Osea cada que el jugador le da a la bola le cuentas cuántas bases avanza y sacas un promedio de todas las veces que esto pasa, dándole mayor peso a las bases mas altas.\n",
    "\n",
    "3.- Hay una variable que la mayoría de los equipos toman en cuenta: el porcentaje de veces que el jugador llega a base al betear (PBat). así que la tomaremos en cuenta también.\n",
    "\n",
    "El siguiente análisis se llama Regresión lineal múltiple, ya que estamos comparando más de una variable con otra. \n",
    "\n",
    "Y podemos usar este método para encontrar qué variables son más significativas para predecir DC.\n"
   ]
  },
  {
   "cell_type": "markdown",
   "metadata": {},
   "source": [
    "### Variables significativas\n",
    "\n",
    "Qué variables nos hacen tener más carreras a favor?"
   ]
  },
  {
   "cell_type": "code",
   "execution_count": 18,
   "metadata": {},
   "outputs": [
    {
     "name": "stdout",
     "output_type": "stream",
     "text": [
      "m =  [-368.96606009 2917.42140821 1637.92766577]\n",
      "b =  -788.4570470807892\n",
      "R² =  0.9302016258786281\n"
     ]
    }
   ],
   "source": [
    "ind = moneyball[['PBat','PBase','SLG']].values.reshape(-1,3)\n",
    "\n",
    "dep = moneyball['CF'].values\n",
    "\n",
    "CF_reg = LinearRegression()\n",
    "CF_reg.fit(ind, dep)\n",
    "\n",
    "print('m = ', CF_reg.coef_)\n",
    "print('b = ',CF_reg.intercept_)\n",
    "print('R² = ', CF_reg.score(ind, dep))"
   ]
  },
  {
   "cell_type": "markdown",
   "metadata": {},
   "source": [
    "Lo primero que podemos notar es que le coeficiente de determinación es muy bueno, tenemos un buen modelo.\n",
    "\n",
    "Podemos ver también, que Porcentaje de Bateo tiene un coeficiente negativo, esto nos está diciendo que mientras mayor sea PBat menor es nuestra estimación de número de carreras, lo cual no tiene sentido."
   ]
  },
  {
   "cell_type": "markdown",
   "metadata": {},
   "source": [
    "#### Multicolinealidad!\n",
    "\n",
    "Este problema es causado por algo que llamamos Multicolinealidad:\n",
    "Lo que está pasando en nuestro análisis es: la variable PBat, está aportando información repetida o que ya inferimos de una de las otras dos variables por lo tanto al momento de ajustar nuestra línea el modelo debe disminuir un poco esa “opinión repetida” para tener un modelo más balanceado y eso causa el coeficiente negativo. \n"
   ]
  },
  {
   "cell_type": "markdown",
   "metadata": {},
   "source": [
    "#### Quitamos variable\n",
    "\n",
    "Por lo tanto corramos el código sin usar esa variable."
   ]
  },
  {
   "cell_type": "code",
   "execution_count": 19,
   "metadata": {},
   "outputs": [
    {
     "name": "stdout",
     "output_type": "stream",
     "text": [
      "m =  [2737.76802227 1584.90860546]\n",
      "b =  -804.6270610622398\n",
      "R² =  0.9295810608096597\n"
     ]
    }
   ],
   "source": [
    "ind = moneyball[['PBase','SLG']].values\n",
    "\n",
    "dep = moneyball['CF'].values\n",
    "\n",
    "CF_reg = LinearRegression()\n",
    "CF_reg.fit(ind, dep)\n",
    "\n",
    "print('m = ', CF_reg.coef_)\n",
    "print('b = ',CF_reg.intercept_)\n",
    "print('R² = ', CF_reg.score(ind, dep))"
   ]
  },
  {
   "cell_type": "markdown",
   "metadata": {},
   "source": [
    "R2 es casi el mismo, lo que significa que podemos tener un modelo muy similar con menos variables… eficiencia."
   ]
  },
  {
   "cell_type": "markdown",
   "metadata": {},
   "source": [
    "#### Ahora para CC:\n",
    "\n",
    "Tiene sentido utilizar el OPBase y OSLG que el equipo contrario nos hace a nosotros, tenemos estadísticas también de lo que nuestro equipo “permite que le hagan”. \n",
    "\n",
    "Con ellas podemos estimar las carreras que tendremos en contra."
   ]
  },
  {
   "cell_type": "markdown",
   "metadata": {},
   "source": [
    "Hay variables Nulas, que ignoraremos para hacer el análisis:"
   ]
  },
  {
   "cell_type": "code",
   "execution_count": 20,
   "metadata": {},
   "outputs": [],
   "source": [
    "CCdf = moneyball[(moneyball['OPBase'].notnull()) & (moneyball['OSLG'].notnull())]"
   ]
  },
  {
   "cell_type": "code",
   "execution_count": 21,
   "metadata": {},
   "outputs": [
    {
     "name": "stdout",
     "output_type": "stream",
     "text": [
      "m =  [2913.59948582 1514.28595842]\n",
      "b =  -837.3778886133358\n",
      "R² =  0.9073132027228664\n"
     ]
    }
   ],
   "source": [
    "ind = CCdf[['OPBase','OSLG']].values\n",
    "\n",
    "dep = CCdf['CC'].values\n",
    "\n",
    "CC_reg = LinearRegression()\n",
    "CC_reg.fit(ind, dep)\n",
    "\n",
    "print('m = ', CC_reg.coef_)\n",
    "print('b = ',CC_reg.intercept_)\n",
    "print('R² = ', CC_reg.score(ind, dep))"
   ]
  },
  {
   "cell_type": "markdown",
   "metadata": {},
   "source": [
    "Estos resultados concuerdan con lo que se discute en la película, PBat no aporta nada extra y nada más importante que las otras dos variables, está sobrevalorada es una variable que no importa tanto pero que se ha tomado en cuenta bastante, PBase tiene una alta magnitud, es muy importante y SLG es importante.\n",
    "\n",
    "De esta manera Billy y DePodesta, determinaron que necesitaban jugadores que cumplieran con estas características, con esas habilidades que nadie más estaba tomando en cuenta y se hicieron de jugadores muy valiosos a un precio de ganga.\n",
    "\n",
    "Entonces con estas variables tenemos dos modelos sólidos para predecir CF y CC.\n",
    "\n",
    "A estos le sumamos el que hicimos para predecir JG usando la DC.\n"
   ]
  },
  {
   "cell_type": "markdown",
   "metadata": {},
   "source": [
    "## Predicciones"
   ]
  },
  {
   "cell_type": "markdown",
   "metadata": {},
   "source": [
    "### Predicciones usando Regresión"
   ]
  },
  {
   "cell_type": "code",
   "execution_count": 22,
   "metadata": {},
   "outputs": [],
   "source": [
    "# estadísticas de OAK en el 2001:\n",
    "# carreras a favor\n",
    "PBase=0.339; SLG=0.43;  \n",
    "# carreras en contra\n",
    "OPBase=0.307; OSLG=0.373"
   ]
  },
  {
   "cell_type": "markdown",
   "metadata": {},
   "source": [
    "Con esas variables podemos predecir cuántas carreras a favor tendrá el equipo:"
   ]
  },
  {
   "cell_type": "code",
   "execution_count": 23,
   "metadata": {},
   "outputs": [
    {
     "data": {
      "text/plain": [
       "array([804.98699884])"
      ]
     },
     "execution_count": 23,
     "metadata": {},
     "output_type": "execute_result"
    }
   ],
   "source": [
    "CF_reg.predict([[PBase, SLG]])"
   ]
  },
  {
   "cell_type": "markdown",
   "metadata": {},
   "source": [
    "Cuántas en contra:"
   ]
  },
  {
   "cell_type": "code",
   "execution_count": 24,
   "metadata": {},
   "outputs": [
    {
     "data": {
      "text/plain": [
       "array([621.92581602])"
      ]
     },
     "execution_count": 24,
     "metadata": {},
     "output_type": "execute_result"
    }
   ],
   "source": [
    "CC_reg.predict([[OPBase, OSLG]])"
   ]
  },
  {
   "cell_type": "markdown",
   "metadata": {},
   "source": [
    "Usando esos resultados podemos calcular la Diferencia DC:\n",
    "\n",
    "Segun nuestros modelos el equipo tendrá:"
   ]
  },
  {
   "cell_type": "code",
   "execution_count": 25,
   "metadata": {},
   "outputs": [
    {
     "name": "stdout",
     "output_type": "stream",
     "text": [
      "183.06100000000004\n"
     ]
    }
   ],
   "source": [
    "DC = 804.986 - 621.925\n",
    "print(DC)"
   ]
  },
  {
   "cell_type": "markdown",
   "metadata": {},
   "source": [
    "Con esa diferencia podemos predecir los Juegos que ganaremos y saber si llegaremos a nuestra meta de ganar al menos 95:"
   ]
  },
  {
   "cell_type": "code",
   "execution_count": 26,
   "metadata": {},
   "outputs": [
    {
     "data": {
      "text/plain": [
       "array([100.24293533])"
      ]
     },
     "execution_count": 26,
     "metadata": {},
     "output_type": "execute_result"
    }
   ],
   "source": [
    "JG_reg.predict([[DC]])"
   ]
  },
  {
   "cell_type": "markdown",
   "metadata": {},
   "source": [
    "## Comparar Resultados\n",
    "\n",
    "Estos son los resultados del modelo de DePodesta, el nuestro y los resultados reales del equipo."
   ]
  },
  {
   "cell_type": "code",
   "execution_count": 27,
   "metadata": {
    "scrolled": true
   },
   "outputs": [
    {
     "data": {
      "text/html": [
       "<div>\n",
       "<style scoped>\n",
       "    .dataframe tbody tr th:only-of-type {\n",
       "        vertical-align: middle;\n",
       "    }\n",
       "\n",
       "    .dataframe tbody tr th {\n",
       "        vertical-align: top;\n",
       "    }\n",
       "\n",
       "    .dataframe thead th {\n",
       "        text-align: right;\n",
       "    }\n",
       "</style>\n",
       "<table border=\"1\" class=\"dataframe\">\n",
       "  <thead>\n",
       "    <tr style=\"text-align: right;\">\n",
       "      <th></th>\n",
       "      <th>Variable</th>\n",
       "      <th>Depodesta</th>\n",
       "      <th>Nuestro</th>\n",
       "      <th>Real</th>\n",
       "    </tr>\n",
       "  </thead>\n",
       "  <tbody>\n",
       "    <tr>\n",
       "      <th>0</th>\n",
       "      <td>Carreras a Favor</td>\n",
       "      <td>800-820</td>\n",
       "      <td>805</td>\n",
       "      <td>800</td>\n",
       "    </tr>\n",
       "    <tr>\n",
       "      <th>1</th>\n",
       "      <td>Carreras en Contra</td>\n",
       "      <td>650-670</td>\n",
       "      <td>622</td>\n",
       "      <td>653</td>\n",
       "    </tr>\n",
       "    <tr>\n",
       "      <th>2</th>\n",
       "      <td>Juegos Ganados</td>\n",
       "      <td>93-97</td>\n",
       "      <td>100</td>\n",
       "      <td>103</td>\n",
       "    </tr>\n",
       "  </tbody>\n",
       "</table>\n",
       "</div>"
      ],
      "text/plain": [
       "             Variable Depodesta Nuestro Real\n",
       "0    Carreras a Favor   800-820     805  800\n",
       "1  Carreras en Contra   650-670     622  653\n",
       "2      Juegos Ganados     93-97     100  103"
      ]
     },
     "execution_count": 27,
     "metadata": {},
     "output_type": "execute_result"
    }
   ],
   "source": [
    "df = pd.DataFrame({'Variable':['Carreras a Favor', 'Carreras en Contra', 'Juegos Ganados'], 'Depodesta':['800-820', '650-670', '93-97'], 'Nuestro':['805', '622', '100'], 'Real':['800', '653', '103']})\n",
    "df"
   ]
  },
  {
   "cell_type": "markdown",
   "metadata": {},
   "source": [
    "Podemos ver que DePodesta hizo muy buen trabajo, se acercó bastante a nuestros resultados.\n",
    "\n",
    "También podemos ver que con el uso de información pública y estas técnicas de análisis podemos hacer predicciones muy cercanas a la realidad, si esto no te embriaga de poder no sé que lo hará."
   ]
  }
 ],
 "metadata": {
  "kernelspec": {
   "display_name": "dv",
   "language": "python",
   "name": "dv"
  },
  "language_info": {
   "codemirror_mode": {
    "name": "ipython",
    "version": 3
   },
   "file_extension": ".py",
   "mimetype": "text/x-python",
   "name": "python",
   "nbconvert_exporter": "python",
   "pygments_lexer": "ipython3",
   "version": "3.6.6"
  }
 },
 "nbformat": 4,
 "nbformat_minor": 2
}
